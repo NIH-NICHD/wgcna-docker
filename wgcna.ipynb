{
 "cells": [
  {
   "cell_type": "code",
   "execution_count": 1,
   "id": "93ce3ecb",
   "metadata": {},
   "outputs": [
    {
     "name": "stderr",
     "output_type": "stream",
     "text": [
      "Loading required package: dynamicTreeCut\n",
      "\n",
      "Loading required package: fastcluster\n",
      "\n",
      "\n",
      "Attaching package: ‘fastcluster’\n",
      "\n",
      "\n",
      "The following object is masked from ‘package:stats’:\n",
      "\n",
      "    hclust\n",
      "\n",
      "\n",
      "\n",
      "\n",
      "\n",
      "Attaching package: ‘WGCNA’\n",
      "\n",
      "\n",
      "The following object is masked from ‘package:stats’:\n",
      "\n",
      "    cor\n",
      "\n",
      "\n"
     ]
    }
   ],
   "source": [
    "# no longer need to install here because it was installed in our base image\n",
    "#install.packages(\"BiocManager\")\n",
    "#install.packages(c('BiocManager'), repos='https://cloud.r-project.org/');BiocManager::install('WGCNA')\n",
    "library(WGCNA)"
   ]
  },
  {
   "cell_type": "code",
   "execution_count": 2,
   "id": "f43a4654-2c12-44d3-99a8-0afa5ccae75f",
   "metadata": {},
   "outputs": [
    {
     "name": "stderr",
     "output_type": "stream",
     "text": [
      "also installing the dependency ‘ragg’\n",
      "\n",
      "\n",
      "Updating HTML index of packages in '.Library'\n",
      "\n",
      "Making 'packages.html' ...\n",
      " done\n",
      "\n"
     ]
    }
   ],
   "source": [
    "#remove.packages(\"tidyverse\") \n",
    "install.packages(\"tidyverse\")\n"
   ]
  },
  {
   "cell_type": "code",
   "execution_count": 3,
   "id": "8555d1a7-7599-4b35-bfdb-ae0653adda3b",
   "metadata": {},
   "outputs": [
    {
     "name": "stderr",
     "output_type": "stream",
     "text": [
      "── \u001b[1mAttaching core tidyverse packages\u001b[22m ──────────────────────── tidyverse 2.0.0 ──\n",
      "\u001b[32m✔\u001b[39m \u001b[34mdplyr    \u001b[39m 1.1.2     \u001b[32m✔\u001b[39m \u001b[34mreadr    \u001b[39m 2.1.4\n",
      "\u001b[32m✔\u001b[39m \u001b[34mforcats  \u001b[39m 1.0.0     \u001b[32m✔\u001b[39m \u001b[34mstringr  \u001b[39m 1.5.0\n",
      "\u001b[32m✔\u001b[39m \u001b[34mggplot2  \u001b[39m 3.4.2     \u001b[32m✔\u001b[39m \u001b[34mtibble   \u001b[39m 3.2.1\n",
      "\u001b[32m✔\u001b[39m \u001b[34mlubridate\u001b[39m 1.9.2     \u001b[32m✔\u001b[39m \u001b[34mtidyr    \u001b[39m 1.3.0\n",
      "\u001b[32m✔\u001b[39m \u001b[34mpurrr    \u001b[39m 1.0.1     \n",
      "── \u001b[1mConflicts\u001b[22m ────────────────────────────────────────── tidyverse_conflicts() ──\n",
      "\u001b[31m✖\u001b[39m \u001b[34mdplyr\u001b[39m::\u001b[32mfilter()\u001b[39m masks \u001b[34mstats\u001b[39m::filter()\n",
      "\u001b[31m✖\u001b[39m \u001b[34mdplyr\u001b[39m::\u001b[32mlag()\u001b[39m    masks \u001b[34mstats\u001b[39m::lag()\n",
      "\u001b[36mℹ\u001b[39m Use the conflicted package (\u001b[3m\u001b[34m<http://conflicted.r-lib.org/>\u001b[39m\u001b[23m) to force all conflicts to become errors\n"
     ]
    }
   ],
   "source": [
    "library(tidyverse)"
   ]
  },
  {
   "cell_type": "code",
   "execution_count": 4,
   "id": "c6ad3842",
   "metadata": {},
   "outputs": [
    {
     "name": "stderr",
     "output_type": "stream",
     "text": [
      "\u001b[1mRows: \u001b[22m\u001b[34m9\u001b[39m \u001b[1mColumns: \u001b[22m\u001b[34m10\u001b[39m\n",
      "\u001b[36m──\u001b[39m \u001b[1mColumn specification\u001b[22m \u001b[36m────────────────────────────────────────────────────────\u001b[39m\n",
      "\u001b[1mDelimiter:\u001b[22m \",\"\n",
      "\u001b[31mchr\u001b[39m (1): gene_id\n",
      "\u001b[32mdbl\u001b[39m (9): AHM_1, GB_1, AHM_2, GB_2, AHM_3, GB_3, AHM_4, AHM_5, GB_4\n",
      "\n",
      "\u001b[36mℹ\u001b[39m Use `spec()` to retrieve the full column specification for this data.\n",
      "\u001b[36mℹ\u001b[39m Specify the column types or set `show_col_types = FALSE` to quiet this message.\n"
     ]
    }
   ],
   "source": [
    "# read in the normalized expression\n",
    "# expecting the output from DESeq2 where data are normalized\n",
    "data <- readr::read_delim(\"/sbgenomics/project-files/test_data_GenePhenotypeFile.csv\",  \n",
    "                          delim = \",\")"
   ]
  },
  {
   "cell_type": "code",
   "execution_count": 5,
   "id": "4ee00bee",
   "metadata": {},
   "outputs": [
    {
     "data": {
      "text/html": [
       "<table class=\"dataframe\">\n",
       "<caption>A tibble: 9 × 10</caption>\n",
       "<thead>\n",
       "\t<tr><th scope=col>gene_id</th><th scope=col>AHM_1</th><th scope=col>GB_1</th><th scope=col>AHM_2</th><th scope=col>GB_2</th><th scope=col>AHM_3</th><th scope=col>GB_3</th><th scope=col>AHM_4</th><th scope=col>AHM_5</th><th scope=col>GB_4</th></tr>\n",
       "\t<tr><th scope=col>&lt;chr&gt;</th><th scope=col>&lt;dbl&gt;</th><th scope=col>&lt;dbl&gt;</th><th scope=col>&lt;dbl&gt;</th><th scope=col>&lt;dbl&gt;</th><th scope=col>&lt;dbl&gt;</th><th scope=col>&lt;dbl&gt;</th><th scope=col>&lt;dbl&gt;</th><th scope=col>&lt;dbl&gt;</th><th scope=col>&lt;dbl&gt;</th></tr>\n",
       "</thead>\n",
       "<tbody>\n",
       "\t<tr><td>EEF1A1 </td><td>583178.02</td><td>198114.5</td><td>174740.7</td><td>195864.6</td><td>208449.6</td><td>351522.1</td><td>240541.6</td><td>206245.0</td><td>181641.8</td></tr>\n",
       "\t<tr><td>HLA-B  </td><td>137277.82</td><td>195562.8</td><td>420754.0</td><td>189800.0</td><td>159606.3</td><td>221018.3</td><td>174418.7</td><td>211173.8</td><td>273057.2</td></tr>\n",
       "\t<tr><td>MT-CO1 </td><td> 70944.48</td><td>330873.5</td><td>417645.0</td><td>262104.1</td><td>170003.1</td><td>259356.0</td><td>176001.8</td><td>335401.6</td><td>307714.7</td></tr>\n",
       "\t<tr><td>ACTB   </td><td>116769.00</td><td>218685.0</td><td>298491.0</td><td>191708.0</td><td>208556.0</td><td>187905.0</td><td>176015.0</td><td>201335.0</td><td>212572.0</td></tr>\n",
       "\t<tr><td>B2M    </td><td>241327.00</td><td>113145.0</td><td> 79821.0</td><td>129504.0</td><td> 76920.0</td><td>234909.0</td><td>114442.0</td><td>108754.0</td><td> 69113.0</td></tr>\n",
       "\t<tr><td>HLA-C  </td><td> 97104.82</td><td>152159.0</td><td>364501.0</td><td>149474.4</td><td>106488.8</td><td>176300.3</td><td>150068.1</td><td>174590.1</td><td>187500.5</td></tr>\n",
       "\t<tr><td>HLA-A  </td><td>118454.06</td><td>161938.2</td><td>227078.2</td><td>180870.7</td><td>115964.0</td><td>148752.1</td><td>101970.1</td><td>173667.3</td><td>146388.5</td></tr>\n",
       "\t<tr><td>HLA-E  </td><td> 98642.52</td><td>161444.7</td><td>207360.0</td><td>165691.4</td><td>127941.8</td><td>138773.2</td><td>109481.0</td><td>149838.5</td><td>163524.0</td></tr>\n",
       "\t<tr><td>MT-RNR2</td><td> 81384.00</td><td>155722.0</td><td>156351.0</td><td>157627.0</td><td> 70869.0</td><td>168792.0</td><td> 80113.0</td><td>154166.0</td><td>138565.0</td></tr>\n",
       "</tbody>\n",
       "</table>\n"
      ],
      "text/latex": [
       "A tibble: 9 × 10\n",
       "\\begin{tabular}{llllllllll}\n",
       " gene\\_id & AHM\\_1 & GB\\_1 & AHM\\_2 & GB\\_2 & AHM\\_3 & GB\\_3 & AHM\\_4 & AHM\\_5 & GB\\_4\\\\\n",
       " <chr> & <dbl> & <dbl> & <dbl> & <dbl> & <dbl> & <dbl> & <dbl> & <dbl> & <dbl>\\\\\n",
       "\\hline\n",
       "\t EEF1A1  & 583178.02 & 198114.5 & 174740.7 & 195864.6 & 208449.6 & 351522.1 & 240541.6 & 206245.0 & 181641.8\\\\\n",
       "\t HLA-B   & 137277.82 & 195562.8 & 420754.0 & 189800.0 & 159606.3 & 221018.3 & 174418.7 & 211173.8 & 273057.2\\\\\n",
       "\t MT-CO1  &  70944.48 & 330873.5 & 417645.0 & 262104.1 & 170003.1 & 259356.0 & 176001.8 & 335401.6 & 307714.7\\\\\n",
       "\t ACTB    & 116769.00 & 218685.0 & 298491.0 & 191708.0 & 208556.0 & 187905.0 & 176015.0 & 201335.0 & 212572.0\\\\\n",
       "\t B2M     & 241327.00 & 113145.0 &  79821.0 & 129504.0 &  76920.0 & 234909.0 & 114442.0 & 108754.0 &  69113.0\\\\\n",
       "\t HLA-C   &  97104.82 & 152159.0 & 364501.0 & 149474.4 & 106488.8 & 176300.3 & 150068.1 & 174590.1 & 187500.5\\\\\n",
       "\t HLA-A   & 118454.06 & 161938.2 & 227078.2 & 180870.7 & 115964.0 & 148752.1 & 101970.1 & 173667.3 & 146388.5\\\\\n",
       "\t HLA-E   &  98642.52 & 161444.7 & 207360.0 & 165691.4 & 127941.8 & 138773.2 & 109481.0 & 149838.5 & 163524.0\\\\\n",
       "\t MT-RNR2 &  81384.00 & 155722.0 & 156351.0 & 157627.0 &  70869.0 & 168792.0 &  80113.0 & 154166.0 & 138565.0\\\\\n",
       "\\end{tabular}\n"
      ],
      "text/markdown": [
       "\n",
       "A tibble: 9 × 10\n",
       "\n",
       "| gene_id &lt;chr&gt; | AHM_1 &lt;dbl&gt; | GB_1 &lt;dbl&gt; | AHM_2 &lt;dbl&gt; | GB_2 &lt;dbl&gt; | AHM_3 &lt;dbl&gt; | GB_3 &lt;dbl&gt; | AHM_4 &lt;dbl&gt; | AHM_5 &lt;dbl&gt; | GB_4 &lt;dbl&gt; |\n",
       "|---|---|---|---|---|---|---|---|---|---|\n",
       "| EEF1A1  | 583178.02 | 198114.5 | 174740.7 | 195864.6 | 208449.6 | 351522.1 | 240541.6 | 206245.0 | 181641.8 |\n",
       "| HLA-B   | 137277.82 | 195562.8 | 420754.0 | 189800.0 | 159606.3 | 221018.3 | 174418.7 | 211173.8 | 273057.2 |\n",
       "| MT-CO1  |  70944.48 | 330873.5 | 417645.0 | 262104.1 | 170003.1 | 259356.0 | 176001.8 | 335401.6 | 307714.7 |\n",
       "| ACTB    | 116769.00 | 218685.0 | 298491.0 | 191708.0 | 208556.0 | 187905.0 | 176015.0 | 201335.0 | 212572.0 |\n",
       "| B2M     | 241327.00 | 113145.0 |  79821.0 | 129504.0 |  76920.0 | 234909.0 | 114442.0 | 108754.0 |  69113.0 |\n",
       "| HLA-C   |  97104.82 | 152159.0 | 364501.0 | 149474.4 | 106488.8 | 176300.3 | 150068.1 | 174590.1 | 187500.5 |\n",
       "| HLA-A   | 118454.06 | 161938.2 | 227078.2 | 180870.7 | 115964.0 | 148752.1 | 101970.1 | 173667.3 | 146388.5 |\n",
       "| HLA-E   |  98642.52 | 161444.7 | 207360.0 | 165691.4 | 127941.8 | 138773.2 | 109481.0 | 149838.5 | 163524.0 |\n",
       "| MT-RNR2 |  81384.00 | 155722.0 | 156351.0 | 157627.0 |  70869.0 | 168792.0 |  80113.0 | 154166.0 | 138565.0 |\n",
       "\n"
      ],
      "text/plain": [
       "  gene_id AHM_1     GB_1     AHM_2    GB_2     AHM_3    GB_3     AHM_4   \n",
       "1 EEF1A1  583178.02 198114.5 174740.7 195864.6 208449.6 351522.1 240541.6\n",
       "2 HLA-B   137277.82 195562.8 420754.0 189800.0 159606.3 221018.3 174418.7\n",
       "3 MT-CO1   70944.48 330873.5 417645.0 262104.1 170003.1 259356.0 176001.8\n",
       "4 ACTB    116769.00 218685.0 298491.0 191708.0 208556.0 187905.0 176015.0\n",
       "5 B2M     241327.00 113145.0  79821.0 129504.0  76920.0 234909.0 114442.0\n",
       "6 HLA-C    97104.82 152159.0 364501.0 149474.4 106488.8 176300.3 150068.1\n",
       "7 HLA-A   118454.06 161938.2 227078.2 180870.7 115964.0 148752.1 101970.1\n",
       "8 HLA-E    98642.52 161444.7 207360.0 165691.4 127941.8 138773.2 109481.0\n",
       "9 MT-RNR2  81384.00 155722.0 156351.0 157627.0  70869.0 168792.0  80113.0\n",
       "  AHM_5    GB_4    \n",
       "1 206245.0 181641.8\n",
       "2 211173.8 273057.2\n",
       "3 335401.6 307714.7\n",
       "4 201335.0 212572.0\n",
       "5 108754.0  69113.0\n",
       "6 174590.1 187500.5\n",
       "7 173667.3 146388.5\n",
       "8 149838.5 163524.0\n",
       "9 154166.0 138565.0"
      ]
     },
     "metadata": {},
     "output_type": "display_data"
    }
   ],
   "source": [
    "data[1:9,1:10]"
   ]
  },
  {
   "cell_type": "code",
   "execution_count": 40,
   "id": "10090404-1931-48fb-ab73-3c3de3379cf7",
   "metadata": {},
   "outputs": [
    {
     "data": {
      "text/html": [
       "<table class=\"dataframe\">\n",
       "<caption>A matrix: 9 × 9 of type dbl</caption>\n",
       "<thead>\n",
       "\t<tr><th></th><th scope=col>AHM_1</th><th scope=col>GB_1</th><th scope=col>AHM_2</th><th scope=col>GB_2</th><th scope=col>AHM_3</th><th scope=col>GB_3</th><th scope=col>AHM_4</th><th scope=col>AHM_5</th><th scope=col>GB_4</th></tr>\n",
       "</thead>\n",
       "<tbody>\n",
       "\t<tr><th scope=row>EEF1A1</th><td>583178.02</td><td>198114.5</td><td>174740.7</td><td>195864.6</td><td>208449.6</td><td>351522.1</td><td>240541.6</td><td>206245.0</td><td>181641.8</td></tr>\n",
       "\t<tr><th scope=row>HLA-B</th><td>137277.82</td><td>195562.8</td><td>420754.0</td><td>189800.0</td><td>159606.3</td><td>221018.3</td><td>174418.7</td><td>211173.8</td><td>273057.2</td></tr>\n",
       "\t<tr><th scope=row>MT-CO1</th><td> 70944.48</td><td>330873.5</td><td>417645.0</td><td>262104.1</td><td>170003.1</td><td>259356.0</td><td>176001.8</td><td>335401.6</td><td>307714.7</td></tr>\n",
       "\t<tr><th scope=row>ACTB</th><td>116769.00</td><td>218685.0</td><td>298491.0</td><td>191708.0</td><td>208556.0</td><td>187905.0</td><td>176015.0</td><td>201335.0</td><td>212572.0</td></tr>\n",
       "\t<tr><th scope=row>B2M</th><td>241327.00</td><td>113145.0</td><td> 79821.0</td><td>129504.0</td><td> 76920.0</td><td>234909.0</td><td>114442.0</td><td>108754.0</td><td> 69113.0</td></tr>\n",
       "\t<tr><th scope=row>HLA-C</th><td> 97104.82</td><td>152159.0</td><td>364501.0</td><td>149474.4</td><td>106488.8</td><td>176300.3</td><td>150068.1</td><td>174590.1</td><td>187500.5</td></tr>\n",
       "\t<tr><th scope=row>HLA-A</th><td>118454.06</td><td>161938.2</td><td>227078.2</td><td>180870.7</td><td>115964.0</td><td>148752.1</td><td>101970.1</td><td>173667.3</td><td>146388.5</td></tr>\n",
       "\t<tr><th scope=row>HLA-E</th><td> 98642.52</td><td>161444.7</td><td>207360.0</td><td>165691.4</td><td>127941.8</td><td>138773.2</td><td>109481.0</td><td>149838.5</td><td>163524.0</td></tr>\n",
       "\t<tr><th scope=row>MT-RNR2</th><td> 81384.00</td><td>155722.0</td><td>156351.0</td><td>157627.0</td><td> 70869.0</td><td>168792.0</td><td> 80113.0</td><td>154166.0</td><td>138565.0</td></tr>\n",
       "</tbody>\n",
       "</table>\n"
      ],
      "text/latex": [
       "A matrix: 9 × 9 of type dbl\n",
       "\\begin{tabular}{r|lllllllll}\n",
       "  & AHM\\_1 & GB\\_1 & AHM\\_2 & GB\\_2 & AHM\\_3 & GB\\_3 & AHM\\_4 & AHM\\_5 & GB\\_4\\\\\n",
       "\\hline\n",
       "\tEEF1A1 & 583178.02 & 198114.5 & 174740.7 & 195864.6 & 208449.6 & 351522.1 & 240541.6 & 206245.0 & 181641.8\\\\\n",
       "\tHLA-B & 137277.82 & 195562.8 & 420754.0 & 189800.0 & 159606.3 & 221018.3 & 174418.7 & 211173.8 & 273057.2\\\\\n",
       "\tMT-CO1 &  70944.48 & 330873.5 & 417645.0 & 262104.1 & 170003.1 & 259356.0 & 176001.8 & 335401.6 & 307714.7\\\\\n",
       "\tACTB & 116769.00 & 218685.0 & 298491.0 & 191708.0 & 208556.0 & 187905.0 & 176015.0 & 201335.0 & 212572.0\\\\\n",
       "\tB2M & 241327.00 & 113145.0 &  79821.0 & 129504.0 &  76920.0 & 234909.0 & 114442.0 & 108754.0 &  69113.0\\\\\n",
       "\tHLA-C &  97104.82 & 152159.0 & 364501.0 & 149474.4 & 106488.8 & 176300.3 & 150068.1 & 174590.1 & 187500.5\\\\\n",
       "\tHLA-A & 118454.06 & 161938.2 & 227078.2 & 180870.7 & 115964.0 & 148752.1 & 101970.1 & 173667.3 & 146388.5\\\\\n",
       "\tHLA-E &  98642.52 & 161444.7 & 207360.0 & 165691.4 & 127941.8 & 138773.2 & 109481.0 & 149838.5 & 163524.0\\\\\n",
       "\tMT-RNR2 &  81384.00 & 155722.0 & 156351.0 & 157627.0 &  70869.0 & 168792.0 &  80113.0 & 154166.0 & 138565.0\\\\\n",
       "\\end{tabular}\n"
      ],
      "text/markdown": [
       "\n",
       "A matrix: 9 × 9 of type dbl\n",
       "\n",
       "| <!--/--> | AHM_1 | GB_1 | AHM_2 | GB_2 | AHM_3 | GB_3 | AHM_4 | AHM_5 | GB_4 |\n",
       "|---|---|---|---|---|---|---|---|---|---|\n",
       "| EEF1A1 | 583178.02 | 198114.5 | 174740.7 | 195864.6 | 208449.6 | 351522.1 | 240541.6 | 206245.0 | 181641.8 |\n",
       "| HLA-B | 137277.82 | 195562.8 | 420754.0 | 189800.0 | 159606.3 | 221018.3 | 174418.7 | 211173.8 | 273057.2 |\n",
       "| MT-CO1 |  70944.48 | 330873.5 | 417645.0 | 262104.1 | 170003.1 | 259356.0 | 176001.8 | 335401.6 | 307714.7 |\n",
       "| ACTB | 116769.00 | 218685.0 | 298491.0 | 191708.0 | 208556.0 | 187905.0 | 176015.0 | 201335.0 | 212572.0 |\n",
       "| B2M | 241327.00 | 113145.0 |  79821.0 | 129504.0 |  76920.0 | 234909.0 | 114442.0 | 108754.0 |  69113.0 |\n",
       "| HLA-C |  97104.82 | 152159.0 | 364501.0 | 149474.4 | 106488.8 | 176300.3 | 150068.1 | 174590.1 | 187500.5 |\n",
       "| HLA-A | 118454.06 | 161938.2 | 227078.2 | 180870.7 | 115964.0 | 148752.1 | 101970.1 | 173667.3 | 146388.5 |\n",
       "| HLA-E |  98642.52 | 161444.7 | 207360.0 | 165691.4 | 127941.8 | 138773.2 | 109481.0 | 149838.5 | 163524.0 |\n",
       "| MT-RNR2 |  81384.00 | 155722.0 | 156351.0 | 157627.0 |  70869.0 | 168792.0 |  80113.0 | 154166.0 | 138565.0 |\n",
       "\n"
      ],
      "text/plain": [
       "        AHM_1     GB_1     AHM_2    GB_2     AHM_3    GB_3     AHM_4   \n",
       "EEF1A1  583178.02 198114.5 174740.7 195864.6 208449.6 351522.1 240541.6\n",
       "HLA-B   137277.82 195562.8 420754.0 189800.0 159606.3 221018.3 174418.7\n",
       "MT-CO1   70944.48 330873.5 417645.0 262104.1 170003.1 259356.0 176001.8\n",
       "ACTB    116769.00 218685.0 298491.0 191708.0 208556.0 187905.0 176015.0\n",
       "B2M     241327.00 113145.0  79821.0 129504.0  76920.0 234909.0 114442.0\n",
       "HLA-C    97104.82 152159.0 364501.0 149474.4 106488.8 176300.3 150068.1\n",
       "HLA-A   118454.06 161938.2 227078.2 180870.7 115964.0 148752.1 101970.1\n",
       "HLA-E    98642.52 161444.7 207360.0 165691.4 127941.8 138773.2 109481.0\n",
       "MT-RNR2  81384.00 155722.0 156351.0 157627.0  70869.0 168792.0  80113.0\n",
       "        AHM_5    GB_4    \n",
       "EEF1A1  206245.0 181641.8\n",
       "HLA-B   211173.8 273057.2\n",
       "MT-CO1  335401.6 307714.7\n",
       "ACTB    201335.0 212572.0\n",
       "B2M     108754.0  69113.0\n",
       "HLA-C   174590.1 187500.5\n",
       "HLA-A   173667.3 146388.5\n",
       "HLA-E   149838.5 163524.0\n",
       "MT-RNR2 154166.0 138565.0"
      ]
     },
     "metadata": {},
     "output_type": "display_data"
    }
   ],
   "source": [
    "de_input = as.matrix(data[,-1])\n",
    "row.names(de_input) = data$GeneId\n",
    "de_input[1:9,1:9]"
   ]
  },
  {
   "cell_type": "code",
   "execution_count": 42,
   "id": "1c556e41-4182-4557-add2-01bd45457e59",
   "metadata": {},
   "outputs": [
    {
     "data": {
      "text/html": [
       "<table class=\"dataframe\">\n",
       "<caption>A data.frame: 9 × 2</caption>\n",
       "<thead>\n",
       "\t<tr><th scope=col>Sample</th><th scope=col>Type</th></tr>\n",
       "\t<tr><th scope=col>&lt;chr&gt;</th><th scope=col>&lt;chr&gt;</th></tr>\n",
       "</thead>\n",
       "<tbody>\n",
       "\t<tr><td>AHM_1</td><td>AHM_1</td></tr>\n",
       "\t<tr><td>GB_1 </td><td>GB_1 </td></tr>\n",
       "\t<tr><td>AHM_2</td><td>AHM_2</td></tr>\n",
       "\t<tr><td>GB_2 </td><td>GB_2 </td></tr>\n",
       "\t<tr><td>AHM_3</td><td>AHM_3</td></tr>\n",
       "\t<tr><td>GB_3 </td><td>GB_3 </td></tr>\n",
       "\t<tr><td>AHM_4</td><td>AHM_4</td></tr>\n",
       "\t<tr><td>AHM_5</td><td>AHM_5</td></tr>\n",
       "\t<tr><td>GB_4 </td><td>GB_4 </td></tr>\n",
       "</tbody>\n",
       "</table>\n"
      ],
      "text/latex": [
       "A data.frame: 9 × 2\n",
       "\\begin{tabular}{ll}\n",
       " Sample & Type\\\\\n",
       " <chr> & <chr>\\\\\n",
       "\\hline\n",
       "\t AHM\\_1 & AHM\\_1\\\\\n",
       "\t GB\\_1  & GB\\_1 \\\\\n",
       "\t AHM\\_2 & AHM\\_2\\\\\n",
       "\t GB\\_2  & GB\\_2 \\\\\n",
       "\t AHM\\_3 & AHM\\_3\\\\\n",
       "\t GB\\_3  & GB\\_3 \\\\\n",
       "\t AHM\\_4 & AHM\\_4\\\\\n",
       "\t AHM\\_5 & AHM\\_5\\\\\n",
       "\t GB\\_4  & GB\\_4 \\\\\n",
       "\\end{tabular}\n"
      ],
      "text/markdown": [
       "\n",
       "A data.frame: 9 × 2\n",
       "\n",
       "| Sample &lt;chr&gt; | Type &lt;chr&gt; |\n",
       "|---|---|\n",
       "| AHM_1 | AHM_1 |\n",
       "| GB_1  | GB_1  |\n",
       "| AHM_2 | AHM_2 |\n",
       "| GB_2  | GB_2  |\n",
       "| AHM_3 | AHM_3 |\n",
       "| GB_3  | GB_3  |\n",
       "| AHM_4 | AHM_4 |\n",
       "| AHM_5 | AHM_5 |\n",
       "| GB_4  | GB_4  |\n",
       "\n"
      ],
      "text/plain": [
       "  Sample Type \n",
       "1 AHM_1  AHM_1\n",
       "2 GB_1   GB_1 \n",
       "3 AHM_2  AHM_2\n",
       "4 GB_2   GB_2 \n",
       "5 AHM_3  AHM_3\n",
       "6 GB_3   GB_3 \n",
       "7 AHM_4  AHM_4\n",
       "8 AHM_5  AHM_5\n",
       "9 GB_4   GB_4 "
      ]
     },
     "metadata": {},
     "output_type": "display_data"
    }
   ],
   "source": [
    "meta_df <- data.frame( Sample = names(data[-1])) %>%\n",
    "  mutate(\n",
    "    Type = gsub(\"-.*\",\"\", Sample) %>% gsub(\"[.].*\",\"\", .)\n",
    "  )\n",
    "meta_df"
   ]
  },
  {
   "cell_type": "code",
   "execution_count": 44,
   "id": "22473eca-a93e-4657-971d-5f821bed7497",
   "metadata": {},
   "outputs": [
    {
     "data": {
      "text/html": [
       "<table class=\"dataframe\">\n",
       "<caption>A matrix: 9 × 9 of type dbl</caption>\n",
       "<thead>\n",
       "\t<tr><th></th><th scope=col>EEF1A1</th><th scope=col>HLA-B</th><th scope=col>MT-CO1</th><th scope=col>ACTB</th><th scope=col>B2M</th><th scope=col>HLA-C</th><th scope=col>HLA-A</th><th scope=col>HLA-E</th><th scope=col>MT-RNR2</th></tr>\n",
       "</thead>\n",
       "<tbody>\n",
       "\t<tr><th scope=row>AHM_1</th><td>583178.0</td><td>137277.8</td><td> 70944.48</td><td>116769</td><td>241327</td><td> 97104.82</td><td>118454.1</td><td> 98642.52</td><td> 81384</td></tr>\n",
       "\t<tr><th scope=row>GB_1</th><td>198114.5</td><td>195562.8</td><td>330873.50</td><td>218685</td><td>113145</td><td>152158.96</td><td>161938.2</td><td>161444.73</td><td>155722</td></tr>\n",
       "\t<tr><th scope=row>AHM_2</th><td>174740.7</td><td>420754.0</td><td>417644.98</td><td>298491</td><td> 79821</td><td>364501.00</td><td>227078.2</td><td>207360.00</td><td>156351</td></tr>\n",
       "\t<tr><th scope=row>GB_2</th><td>195864.6</td><td>189800.0</td><td>262104.06</td><td>191708</td><td>129504</td><td>149474.44</td><td>180870.7</td><td>165691.44</td><td>157627</td></tr>\n",
       "\t<tr><th scope=row>AHM_3</th><td>208449.6</td><td>159606.3</td><td>170003.11</td><td>208556</td><td> 76920</td><td>106488.77</td><td>115964.0</td><td>127941.82</td><td> 70869</td></tr>\n",
       "\t<tr><th scope=row>GB_3</th><td>351522.1</td><td>221018.3</td><td>259355.96</td><td>187905</td><td>234909</td><td>176300.28</td><td>148752.1</td><td>138773.22</td><td>168792</td></tr>\n",
       "\t<tr><th scope=row>AHM_4</th><td>240541.6</td><td>174418.7</td><td>176001.81</td><td>176015</td><td>114442</td><td>150068.14</td><td>101970.1</td><td>109481.00</td><td> 80113</td></tr>\n",
       "\t<tr><th scope=row>AHM_5</th><td>206245.0</td><td>211173.8</td><td>335401.58</td><td>201335</td><td>108754</td><td>174590.12</td><td>173667.3</td><td>149838.46</td><td>154166</td></tr>\n",
       "\t<tr><th scope=row>GB_4</th><td>181641.8</td><td>273057.2</td><td>307714.71</td><td>212572</td><td> 69113</td><td>187500.47</td><td>146388.5</td><td>163524.00</td><td>138565</td></tr>\n",
       "</tbody>\n",
       "</table>\n"
      ],
      "text/latex": [
       "A matrix: 9 × 9 of type dbl\n",
       "\\begin{tabular}{r|lllllllll}\n",
       "  & EEF1A1 & HLA-B & MT-CO1 & ACTB & B2M & HLA-C & HLA-A & HLA-E & MT-RNR2\\\\\n",
       "\\hline\n",
       "\tAHM\\_1 & 583178.0 & 137277.8 &  70944.48 & 116769 & 241327 &  97104.82 & 118454.1 &  98642.52 &  81384\\\\\n",
       "\tGB\\_1 & 198114.5 & 195562.8 & 330873.50 & 218685 & 113145 & 152158.96 & 161938.2 & 161444.73 & 155722\\\\\n",
       "\tAHM\\_2 & 174740.7 & 420754.0 & 417644.98 & 298491 &  79821 & 364501.00 & 227078.2 & 207360.00 & 156351\\\\\n",
       "\tGB\\_2 & 195864.6 & 189800.0 & 262104.06 & 191708 & 129504 & 149474.44 & 180870.7 & 165691.44 & 157627\\\\\n",
       "\tAHM\\_3 & 208449.6 & 159606.3 & 170003.11 & 208556 &  76920 & 106488.77 & 115964.0 & 127941.82 &  70869\\\\\n",
       "\tGB\\_3 & 351522.1 & 221018.3 & 259355.96 & 187905 & 234909 & 176300.28 & 148752.1 & 138773.22 & 168792\\\\\n",
       "\tAHM\\_4 & 240541.6 & 174418.7 & 176001.81 & 176015 & 114442 & 150068.14 & 101970.1 & 109481.00 &  80113\\\\\n",
       "\tAHM\\_5 & 206245.0 & 211173.8 & 335401.58 & 201335 & 108754 & 174590.12 & 173667.3 & 149838.46 & 154166\\\\\n",
       "\tGB\\_4 & 181641.8 & 273057.2 & 307714.71 & 212572 &  69113 & 187500.47 & 146388.5 & 163524.00 & 138565\\\\\n",
       "\\end{tabular}\n"
      ],
      "text/markdown": [
       "\n",
       "A matrix: 9 × 9 of type dbl\n",
       "\n",
       "| <!--/--> | EEF1A1 | HLA-B | MT-CO1 | ACTB | B2M | HLA-C | HLA-A | HLA-E | MT-RNR2 |\n",
       "|---|---|---|---|---|---|---|---|---|---|\n",
       "| AHM_1 | 583178.0 | 137277.8 |  70944.48 | 116769 | 241327 |  97104.82 | 118454.1 |  98642.52 |  81384 |\n",
       "| GB_1 | 198114.5 | 195562.8 | 330873.50 | 218685 | 113145 | 152158.96 | 161938.2 | 161444.73 | 155722 |\n",
       "| AHM_2 | 174740.7 | 420754.0 | 417644.98 | 298491 |  79821 | 364501.00 | 227078.2 | 207360.00 | 156351 |\n",
       "| GB_2 | 195864.6 | 189800.0 | 262104.06 | 191708 | 129504 | 149474.44 | 180870.7 | 165691.44 | 157627 |\n",
       "| AHM_3 | 208449.6 | 159606.3 | 170003.11 | 208556 |  76920 | 106488.77 | 115964.0 | 127941.82 |  70869 |\n",
       "| GB_3 | 351522.1 | 221018.3 | 259355.96 | 187905 | 234909 | 176300.28 | 148752.1 | 138773.22 | 168792 |\n",
       "| AHM_4 | 240541.6 | 174418.7 | 176001.81 | 176015 | 114442 | 150068.14 | 101970.1 | 109481.00 |  80113 |\n",
       "| AHM_5 | 206245.0 | 211173.8 | 335401.58 | 201335 | 108754 | 174590.12 | 173667.3 | 149838.46 | 154166 |\n",
       "| GB_4 | 181641.8 | 273057.2 | 307714.71 | 212572 |  69113 | 187500.47 | 146388.5 | 163524.00 | 138565 |\n",
       "\n"
      ],
      "text/plain": [
       "      EEF1A1   HLA-B    MT-CO1    ACTB   B2M    HLA-C     HLA-A    HLA-E    \n",
       "AHM_1 583178.0 137277.8  70944.48 116769 241327  97104.82 118454.1  98642.52\n",
       "GB_1  198114.5 195562.8 330873.50 218685 113145 152158.96 161938.2 161444.73\n",
       "AHM_2 174740.7 420754.0 417644.98 298491  79821 364501.00 227078.2 207360.00\n",
       "GB_2  195864.6 189800.0 262104.06 191708 129504 149474.44 180870.7 165691.44\n",
       "AHM_3 208449.6 159606.3 170003.11 208556  76920 106488.77 115964.0 127941.82\n",
       "GB_3  351522.1 221018.3 259355.96 187905 234909 176300.28 148752.1 138773.22\n",
       "AHM_4 240541.6 174418.7 176001.81 176015 114442 150068.14 101970.1 109481.00\n",
       "AHM_5 206245.0 211173.8 335401.58 201335 108754 174590.12 173667.3 149838.46\n",
       "GB_4  181641.8 273057.2 307714.71 212572  69113 187500.47 146388.5 163524.00\n",
       "      MT-RNR2\n",
       "AHM_1  81384 \n",
       "GB_1  155722 \n",
       "AHM_2 156351 \n",
       "GB_2  157627 \n",
       "AHM_3  70869 \n",
       "GB_3  168792 \n",
       "AHM_4  80113 \n",
       "AHM_5 154166 \n",
       "GB_4  138565 "
      ]
     },
     "metadata": {},
     "output_type": "display_data"
    }
   ],
   "source": [
    "#the deseq normlization step is executed outside of here\n",
    "# input_mat <- t(expr_normalized) \n",
    "input_mat<- t(de_input)\n",
    "input_mat[1:9,1:9]"
   ]
  },
  {
   "cell_type": "code",
   "execution_count": 45,
   "id": "95662278-b05e-4f4c-b3b8-1400b15b73db",
   "metadata": {},
   "outputs": [
    {
     "data": {
      "text/html": [
       "<style>\n",
       ".list-inline {list-style: none; margin:0; padding: 0}\n",
       ".list-inline>li {display: inline-block}\n",
       ".list-inline>li:not(:last-child)::after {content: \"\\00b7\"; padding: 0 .5ex}\n",
       "</style>\n",
       "<ol class=list-inline><li>'GeneId'</li><li>'AHM_1'</li><li>'GB_1'</li><li>'AHM_2'</li><li>'GB_2'</li><li>'AHM_3'</li><li>'GB_3'</li><li>'AHM_4'</li><li>'AHM_5'</li><li>'GB_4'</li></ol>\n"
      ],
      "text/latex": [
       "\\begin{enumerate*}\n",
       "\\item 'GeneId'\n",
       "\\item 'AHM\\_1'\n",
       "\\item 'GB\\_1'\n",
       "\\item 'AHM\\_2'\n",
       "\\item 'GB\\_2'\n",
       "\\item 'AHM\\_3'\n",
       "\\item 'GB\\_3'\n",
       "\\item 'AHM\\_4'\n",
       "\\item 'AHM\\_5'\n",
       "\\item 'GB\\_4'\n",
       "\\end{enumerate*}\n"
      ],
      "text/markdown": [
       "1. 'GeneId'\n",
       "2. 'AHM_1'\n",
       "3. 'GB_1'\n",
       "4. 'AHM_2'\n",
       "5. 'GB_2'\n",
       "6. 'AHM_3'\n",
       "7. 'GB_3'\n",
       "8. 'AHM_4'\n",
       "9. 'AHM_5'\n",
       "10. 'GB_4'\n",
       "\n",
       "\n"
      ],
      "text/plain": [
       " [1] \"GeneId\" \"AHM_1\"  \"GB_1\"   \"AHM_2\"  \"GB_2\"   \"AHM_3\"  \"GB_3\"   \"AHM_4\" \n",
       " [9] \"AHM_5\"  \"GB_4\"  "
      ]
     },
     "metadata": {},
     "output_type": "display_data"
    }
   ],
   "source": [
    "names(data)[1] = \"GeneId\"\n",
    "names(data)           # Look at the column names"
   ]
  },
  {
   "cell_type": "code",
   "execution_count": 46,
   "id": "d2463e44",
   "metadata": {},
   "outputs": [
    {
     "data": {
      "text/html": [
       "<table class=\"dataframe\">\n",
       "<caption>A matrix: 9 × 9 of type dbl</caption>\n",
       "<thead>\n",
       "\t<tr><th></th><th scope=col>EEF1A1</th><th scope=col>HLA-B</th><th scope=col>MT-CO1</th><th scope=col>ACTB</th><th scope=col>B2M</th><th scope=col>HLA-C</th><th scope=col>HLA-A</th><th scope=col>HLA-E</th><th scope=col>MT-RNR2</th></tr>\n",
       "</thead>\n",
       "<tbody>\n",
       "\t<tr><th scope=row>AHM_1</th><td>583178.0</td><td>137277.8</td><td> 70944.48</td><td>116769</td><td>241327</td><td> 97104.82</td><td>118454.1</td><td> 98642.52</td><td> 81384</td></tr>\n",
       "\t<tr><th scope=row>GB_1</th><td>198114.5</td><td>195562.8</td><td>330873.50</td><td>218685</td><td>113145</td><td>152158.96</td><td>161938.2</td><td>161444.73</td><td>155722</td></tr>\n",
       "\t<tr><th scope=row>AHM_2</th><td>174740.7</td><td>420754.0</td><td>417644.98</td><td>298491</td><td> 79821</td><td>364501.00</td><td>227078.2</td><td>207360.00</td><td>156351</td></tr>\n",
       "\t<tr><th scope=row>GB_2</th><td>195864.6</td><td>189800.0</td><td>262104.06</td><td>191708</td><td>129504</td><td>149474.44</td><td>180870.7</td><td>165691.44</td><td>157627</td></tr>\n",
       "\t<tr><th scope=row>AHM_3</th><td>208449.6</td><td>159606.3</td><td>170003.11</td><td>208556</td><td> 76920</td><td>106488.77</td><td>115964.0</td><td>127941.82</td><td> 70869</td></tr>\n",
       "\t<tr><th scope=row>GB_3</th><td>351522.1</td><td>221018.3</td><td>259355.96</td><td>187905</td><td>234909</td><td>176300.28</td><td>148752.1</td><td>138773.22</td><td>168792</td></tr>\n",
       "\t<tr><th scope=row>AHM_4</th><td>240541.6</td><td>174418.7</td><td>176001.81</td><td>176015</td><td>114442</td><td>150068.14</td><td>101970.1</td><td>109481.00</td><td> 80113</td></tr>\n",
       "\t<tr><th scope=row>AHM_5</th><td>206245.0</td><td>211173.8</td><td>335401.58</td><td>201335</td><td>108754</td><td>174590.12</td><td>173667.3</td><td>149838.46</td><td>154166</td></tr>\n",
       "\t<tr><th scope=row>GB_4</th><td>181641.8</td><td>273057.2</td><td>307714.71</td><td>212572</td><td> 69113</td><td>187500.47</td><td>146388.5</td><td>163524.00</td><td>138565</td></tr>\n",
       "</tbody>\n",
       "</table>\n"
      ],
      "text/latex": [
       "A matrix: 9 × 9 of type dbl\n",
       "\\begin{tabular}{r|lllllllll}\n",
       "  & EEF1A1 & HLA-B & MT-CO1 & ACTB & B2M & HLA-C & HLA-A & HLA-E & MT-RNR2\\\\\n",
       "\\hline\n",
       "\tAHM\\_1 & 583178.0 & 137277.8 &  70944.48 & 116769 & 241327 &  97104.82 & 118454.1 &  98642.52 &  81384\\\\\n",
       "\tGB\\_1 & 198114.5 & 195562.8 & 330873.50 & 218685 & 113145 & 152158.96 & 161938.2 & 161444.73 & 155722\\\\\n",
       "\tAHM\\_2 & 174740.7 & 420754.0 & 417644.98 & 298491 &  79821 & 364501.00 & 227078.2 & 207360.00 & 156351\\\\\n",
       "\tGB\\_2 & 195864.6 & 189800.0 & 262104.06 & 191708 & 129504 & 149474.44 & 180870.7 & 165691.44 & 157627\\\\\n",
       "\tAHM\\_3 & 208449.6 & 159606.3 & 170003.11 & 208556 &  76920 & 106488.77 & 115964.0 & 127941.82 &  70869\\\\\n",
       "\tGB\\_3 & 351522.1 & 221018.3 & 259355.96 & 187905 & 234909 & 176300.28 & 148752.1 & 138773.22 & 168792\\\\\n",
       "\tAHM\\_4 & 240541.6 & 174418.7 & 176001.81 & 176015 & 114442 & 150068.14 & 101970.1 & 109481.00 &  80113\\\\\n",
       "\tAHM\\_5 & 206245.0 & 211173.8 & 335401.58 & 201335 & 108754 & 174590.12 & 173667.3 & 149838.46 & 154166\\\\\n",
       "\tGB\\_4 & 181641.8 & 273057.2 & 307714.71 & 212572 &  69113 & 187500.47 & 146388.5 & 163524.00 & 138565\\\\\n",
       "\\end{tabular}\n"
      ],
      "text/markdown": [
       "\n",
       "A matrix: 9 × 9 of type dbl\n",
       "\n",
       "| <!--/--> | EEF1A1 | HLA-B | MT-CO1 | ACTB | B2M | HLA-C | HLA-A | HLA-E | MT-RNR2 |\n",
       "|---|---|---|---|---|---|---|---|---|---|\n",
       "| AHM_1 | 583178.0 | 137277.8 |  70944.48 | 116769 | 241327 |  97104.82 | 118454.1 |  98642.52 |  81384 |\n",
       "| GB_1 | 198114.5 | 195562.8 | 330873.50 | 218685 | 113145 | 152158.96 | 161938.2 | 161444.73 | 155722 |\n",
       "| AHM_2 | 174740.7 | 420754.0 | 417644.98 | 298491 |  79821 | 364501.00 | 227078.2 | 207360.00 | 156351 |\n",
       "| GB_2 | 195864.6 | 189800.0 | 262104.06 | 191708 | 129504 | 149474.44 | 180870.7 | 165691.44 | 157627 |\n",
       "| AHM_3 | 208449.6 | 159606.3 | 170003.11 | 208556 |  76920 | 106488.77 | 115964.0 | 127941.82 |  70869 |\n",
       "| GB_3 | 351522.1 | 221018.3 | 259355.96 | 187905 | 234909 | 176300.28 | 148752.1 | 138773.22 | 168792 |\n",
       "| AHM_4 | 240541.6 | 174418.7 | 176001.81 | 176015 | 114442 | 150068.14 | 101970.1 | 109481.00 |  80113 |\n",
       "| AHM_5 | 206245.0 | 211173.8 | 335401.58 | 201335 | 108754 | 174590.12 | 173667.3 | 149838.46 | 154166 |\n",
       "| GB_4 | 181641.8 | 273057.2 | 307714.71 | 212572 |  69113 | 187500.47 | 146388.5 | 163524.00 | 138565 |\n",
       "\n"
      ],
      "text/plain": [
       "      EEF1A1   HLA-B    MT-CO1    ACTB   B2M    HLA-C     HLA-A    HLA-E    \n",
       "AHM_1 583178.0 137277.8  70944.48 116769 241327  97104.82 118454.1  98642.52\n",
       "GB_1  198114.5 195562.8 330873.50 218685 113145 152158.96 161938.2 161444.73\n",
       "AHM_2 174740.7 420754.0 417644.98 298491  79821 364501.00 227078.2 207360.00\n",
       "GB_2  195864.6 189800.0 262104.06 191708 129504 149474.44 180870.7 165691.44\n",
       "AHM_3 208449.6 159606.3 170003.11 208556  76920 106488.77 115964.0 127941.82\n",
       "GB_3  351522.1 221018.3 259355.96 187905 234909 176300.28 148752.1 138773.22\n",
       "AHM_4 240541.6 174418.7 176001.81 176015 114442 150068.14 101970.1 109481.00\n",
       "AHM_5 206245.0 211173.8 335401.58 201335 108754 174590.12 173667.3 149838.46\n",
       "GB_4  181641.8 273057.2 307714.71 212572  69113 187500.47 146388.5 163524.00\n",
       "      MT-RNR2\n",
       "AHM_1  81384 \n",
       "GB_1  155722 \n",
       "AHM_2 156351 \n",
       "GB_2  157627 \n",
       "AHM_3  70869 \n",
       "GB_3  168792 \n",
       "AHM_4  80113 \n",
       "AHM_5 154166 \n",
       "GB_4  138565 "
      ]
     },
     "metadata": {},
     "output_type": "display_data"
    }
   ],
   "source": [
    "input_mat[1:9,1:9]"
   ]
  },
  {
   "cell_type": "code",
   "execution_count": 47,
   "id": "abcec70c-864a-48c6-9633-5c6a187db8e6",
   "metadata": {},
   "outputs": [
    {
     "name": "stdout",
     "output_type": "stream",
     "text": [
      "Allowing multi-threading with up to 8 threads.\n"
     ]
    }
   ],
   "source": [
    "allowWGCNAThreads()          # allow multi-threading (optional)\n",
    "#> Allowing multi-threading with up to 4 threads."
   ]
  },
  {
   "cell_type": "code",
   "execution_count": 48,
   "id": "fe425de8",
   "metadata": {},
   "outputs": [],
   "source": [
    "# Choose a set of soft-thresholding powers\n",
    "powers = c(c(1:10), seq(from = 12, to = 20, by = 2))"
   ]
  },
  {
   "cell_type": "code",
   "execution_count": 49,
   "id": "aee04f67",
   "metadata": {},
   "outputs": [
    {
     "name": "stdout",
     "output_type": "stream",
     "text": [
      "pickSoftThreshold: will use block size 9.\n",
      " pickSoftThreshold: calculating connectivity for given powers...\n",
      "   ..working on genes 1 through 9 of 9\n",
      "   Power SFT.R.sq  slope truncated.R.sq mean.k. median.k. max.k.\n",
      "1      1 0.014000 -6.840        -0.0885   5.350     5.610  6.340\n",
      "2      2 0.004810  2.330         0.1900   3.970     4.290  5.170\n",
      "3      3 0.000349  0.484         0.2650   3.100     3.420  4.300\n",
      "4      4 0.021300  3.530         0.4210   2.510     2.840  3.630\n",
      "5      5 0.026100  3.810         0.4420   2.070     2.430  3.110\n",
      "6      6 0.014500  2.610         0.4470   1.740     2.120  2.690\n",
      "7      7 0.006910  1.690         0.4400   1.480     1.830  2.350\n",
      "8      8 0.025600  2.780         0.3930   1.280     1.550  2.060\n",
      "9      9 0.174000  8.070         0.4360   1.110     1.310  1.820\n",
      "10    10 0.165000  7.550         0.3890   0.967     1.120  1.610\n",
      "11    12 0.060200  4.230         0.2720   0.754     0.815  1.280\n",
      "12    14 0.001450  0.612        -0.2130   0.602     0.602  1.070\n",
      "13    16 0.008480  1.330         0.0137   0.492     0.449  0.952\n",
      "14    18 0.002860 -0.706        -0.1500   0.411     0.339  0.862\n",
      "15    20 0.049200 -2.730        -0.1660   0.349     0.269  0.792\n"
     ]
    }
   ],
   "source": [
    "# Call the network topology analysis function\n",
    "sft = pickSoftThreshold(\n",
    "  input_mat,             # <= Input data\n",
    "  #blockSize = 30,\n",
    "  powerVector = powers,\n",
    "  verbose = 5\n",
    "  )"
   ]
  },
  {
   "cell_type": "code",
   "execution_count": 50,
   "id": "2b69800f",
   "metadata": {},
   "outputs": [
    {
     "data": {
      "text/html": [
       "<style>\n",
       ".list-inline {list-style: none; margin:0; padding: 0}\n",
       ".list-inline>li {display: inline-block}\n",
       ".list-inline>li:not(:last-child)::after {content: \"\\00b7\"; padding: 0 .5ex}\n",
       "</style>\n",
       "<ol class=list-inline><li>'AHM_1'</li><li>'GB_1'</li><li>'AHM_2'</li><li>'GB_2'</li><li>'AHM_3'</li><li>'GB_3'</li><li>'AHM_4'</li><li>'AHM_5'</li><li>'GB_4'</li></ol>\n"
      ],
      "text/latex": [
       "\\begin{enumerate*}\n",
       "\\item 'AHM\\_1'\n",
       "\\item 'GB\\_1'\n",
       "\\item 'AHM\\_2'\n",
       "\\item 'GB\\_2'\n",
       "\\item 'AHM\\_3'\n",
       "\\item 'GB\\_3'\n",
       "\\item 'AHM\\_4'\n",
       "\\item 'AHM\\_5'\n",
       "\\item 'GB\\_4'\n",
       "\\end{enumerate*}\n"
      ],
      "text/markdown": [
       "1. 'AHM_1'\n",
       "2. 'GB_1'\n",
       "3. 'AHM_2'\n",
       "4. 'GB_2'\n",
       "5. 'AHM_3'\n",
       "6. 'GB_3'\n",
       "7. 'AHM_4'\n",
       "8. 'AHM_5'\n",
       "9. 'GB_4'\n",
       "\n",
       "\n"
      ],
      "text/plain": [
       "[1] \"AHM_1\" \"GB_1\"  \"AHM_2\" \"GB_2\"  \"AHM_3\" \"GB_3\"  \"AHM_4\" \"AHM_5\" \"GB_4\" "
      ]
     },
     "metadata": {},
     "output_type": "display_data"
    }
   ],
   "source": [
    "col_sel = names(data)[-1]     # Get all but first column name\n",
    "col_sel"
   ]
  },
  {
   "cell_type": "markdown",
   "id": "bd826a61",
   "metadata": {
    "lines_to_next_cell": 2
   },
   "source": [
    "Optional step ---  order the groups in the plot.\n",
    "mdata$group = factor(mdata$group,\n",
    "                    levels = c(\"B\", \"B_L1\", ....))  #<= fill the rest of this in"
   ]
  },
  {
   "cell_type": "code",
   "execution_count": 51,
   "id": "5c75f300-0628-4923-8932-1536ccc74ab6",
   "metadata": {},
   "outputs": [],
   "source": [
    "mdata <- data %>%\n",
    "  tidyr::pivot_longer(\n",
    "    .,                        # The dot is the the input data, magrittr tutorial\n",
    "    col = all_of(col_sel)\n",
    "    ) %>%  \n",
    "  mutate(\n",
    "    group = gsub(\"-.*\",\"\", name) %>% gsub(\"[.].*\",\"\", .)   # Get the shorter treatment names\n",
    "  )\n"
   ]
  },
  {
   "cell_type": "code",
   "execution_count": 52,
   "id": "b3836892",
   "metadata": {},
   "outputs": [
    {
     "data": {
      "image/png": "[encoded data removed]",
      "text/plain": [
       "plot without title"
      ]
     },
     "metadata": {
      "image/png": {
       "height": 420,
       "width": 420
      }
     },
     "output_type": "display_data"
    }
   ],
   "source": [
    "# ==== Plot groups (Sample Groups vs RNA Seq Counts) to identify outliers\n",
    "(\n",
    " p <- mdata %>%\n",
    "    ggplot(., aes(x = name, y = value)) +             # x = treatment, y = RNA Seq count\n",
    "    geom_violin() +                                   # violin plot, show distribution\n",
    "    geom_point(alpha = 0.2) +                         # scatter plot\n",
    "    theme_bw() +\n",
    "    theme(\n",
    "      axis.text.x = element_text(angle = 90)          # Rotate treatment text\n",
    "    ) +\n",
    "    labs(x = \"Treatment Groups\", y = \"RNA Seq Counts\") +\n",
    "    facet_grid(cols = vars(group), drop = TRUE, scales = \"free_x\")      # Facet by hour\n",
    ")"
   ]
  },
  {
   "cell_type": "code",
   "execution_count": 53,
   "id": "fe391a42",
   "metadata": {},
   "outputs": [],
   "source": [
    "par(mfrow = c(1,2));\n",
    "cex1 = 0.9;"
   ]
  },
  {
   "cell_type": "code",
   "execution_count": 54,
   "id": "89d046c1",
   "metadata": {},
   "outputs": [
    {
     "data": {
      "image/png": "[encoded data removed]",
      "text/plain": [
       "Plot with title “Scale independence”"
      ]
     },
     "metadata": {
      "image/png": {
       "height": 420,
       "width": 420
      }
     },
     "output_type": "display_data"
    },
    {
     "data": {
      "image/png": "[encoded data removed]",
      "text/plain": [
       "Plot with title “Mean connectivity”"
      ]
     },
     "metadata": {
      "image/png": {
       "height": 420,
       "width": 420
      }
     },
     "output_type": "display_data"
    }
   ],
   "source": [
    "plot(sft$fitIndices[, 1],\n",
    "     -sign(sft$fitIndices[, 3]) * sft$fitIndices[, 2],\n",
    "     xlab = \"Soft Threshold (power)\",\n",
    "     ylab = \"Scale Free Topology Model Fit, signed R^2\",\n",
    "     main = paste(\"Scale independence\")\n",
    ")\n",
    "text(sft$fitIndices[, 1],\n",
    "     -sign(sft$fitIndices[, 3]) * sft$fitIndices[, 2],\n",
    "     labels = powers, cex = cex1, col = \"red\"\n",
    ")\n",
    "abline(h = 0.90, col = \"red\")\n",
    "plot(sft$fitIndices[, 1],\n",
    "     sft$fitIndices[, 5],\n",
    "     xlab = \"Soft Threshold (power)\",\n",
    "     ylab = \"Mean Connectivity\",\n",
    "     type = \"n\",\n",
    "     main = paste(\"Mean connectivity\")\n",
    ")\n",
    "text(sft$fitIndices[, 1],\n",
    "     sft$fitIndices[, 5],\n",
    "     labels = powers,\n",
    "     cex = cex1, col = \"red\")\n",
    "\n",
    "    picked_power = 9\n",
    "temp_cor <- cor       \n",
    "cor <- WGCNA::cor         \n",
    "# Force it to use WGCNA cor function (fix a namespace conflict issue)\n",
    "# <= input here"
   ]
  },
  {
   "cell_type": "code",
   "execution_count": 55,
   "id": "584cc8d2-9c7f-424c-bc64-7859c870eec3",
   "metadata": {},
   "outputs": [
    {
     "data": {
      "text/html": [
       "'double'"
      ],
      "text/latex": [
       "'double'"
      ],
      "text/markdown": [
       "'double'"
      ],
      "text/plain": [
       "[1] \"double\""
      ]
     },
     "metadata": {},
     "output_type": "display_data"
    }
   ],
   "source": [
    "typeof(input_mat)\n"
   ]
  },
  {
   "cell_type": "code",
   "execution_count": 56,
   "id": "d5b4cf5f-a83a-4e12-8f09-17b699378440",
   "metadata": {},
   "outputs": [
    {
     "data": {
      "text/html": [
       "<table class=\"dataframe\">\n",
       "<caption>A matrix: 9 × 9 of type dbl</caption>\n",
       "<thead>\n",
       "\t<tr><th></th><th scope=col>EEF1A1</th><th scope=col>HLA-B</th><th scope=col>MT-CO1</th><th scope=col>ACTB</th><th scope=col>B2M</th><th scope=col>HLA-C</th><th scope=col>HLA-A</th><th scope=col>HLA-E</th><th scope=col>MT-RNR2</th></tr>\n",
       "</thead>\n",
       "<tbody>\n",
       "\t<tr><th scope=row>AHM_1</th><td>583178.0</td><td>137277.8</td><td> 70944.48</td><td>116769</td><td>241327</td><td> 97104.82</td><td>118454.1</td><td> 98642.52</td><td> 81384</td></tr>\n",
       "\t<tr><th scope=row>GB_1</th><td>198114.5</td><td>195562.8</td><td>330873.50</td><td>218685</td><td>113145</td><td>152158.96</td><td>161938.2</td><td>161444.73</td><td>155722</td></tr>\n",
       "\t<tr><th scope=row>AHM_2</th><td>174740.7</td><td>420754.0</td><td>417644.98</td><td>298491</td><td> 79821</td><td>364501.00</td><td>227078.2</td><td>207360.00</td><td>156351</td></tr>\n",
       "\t<tr><th scope=row>GB_2</th><td>195864.6</td><td>189800.0</td><td>262104.06</td><td>191708</td><td>129504</td><td>149474.44</td><td>180870.7</td><td>165691.44</td><td>157627</td></tr>\n",
       "\t<tr><th scope=row>AHM_3</th><td>208449.6</td><td>159606.3</td><td>170003.11</td><td>208556</td><td> 76920</td><td>106488.77</td><td>115964.0</td><td>127941.82</td><td> 70869</td></tr>\n",
       "\t<tr><th scope=row>GB_3</th><td>351522.1</td><td>221018.3</td><td>259355.96</td><td>187905</td><td>234909</td><td>176300.28</td><td>148752.1</td><td>138773.22</td><td>168792</td></tr>\n",
       "\t<tr><th scope=row>AHM_4</th><td>240541.6</td><td>174418.7</td><td>176001.81</td><td>176015</td><td>114442</td><td>150068.14</td><td>101970.1</td><td>109481.00</td><td> 80113</td></tr>\n",
       "\t<tr><th scope=row>AHM_5</th><td>206245.0</td><td>211173.8</td><td>335401.58</td><td>201335</td><td>108754</td><td>174590.12</td><td>173667.3</td><td>149838.46</td><td>154166</td></tr>\n",
       "\t<tr><th scope=row>GB_4</th><td>181641.8</td><td>273057.2</td><td>307714.71</td><td>212572</td><td> 69113</td><td>187500.47</td><td>146388.5</td><td>163524.00</td><td>138565</td></tr>\n",
       "</tbody>\n",
       "</table>\n"
      ],
      "text/latex": [
       "A matrix: 9 × 9 of type dbl\n",
       "\\begin{tabular}{r|lllllllll}\n",
       "  & EEF1A1 & HLA-B & MT-CO1 & ACTB & B2M & HLA-C & HLA-A & HLA-E & MT-RNR2\\\\\n",
       "\\hline\n",
       "\tAHM\\_1 & 583178.0 & 137277.8 &  70944.48 & 116769 & 241327 &  97104.82 & 118454.1 &  98642.52 &  81384\\\\\n",
       "\tGB\\_1 & 198114.5 & 195562.8 & 330873.50 & 218685 & 113145 & 152158.96 & 161938.2 & 161444.73 & 155722\\\\\n",
       "\tAHM\\_2 & 174740.7 & 420754.0 & 417644.98 & 298491 &  79821 & 364501.00 & 227078.2 & 207360.00 & 156351\\\\\n",
       "\tGB\\_2 & 195864.6 & 189800.0 & 262104.06 & 191708 & 129504 & 149474.44 & 180870.7 & 165691.44 & 157627\\\\\n",
       "\tAHM\\_3 & 208449.6 & 159606.3 & 170003.11 & 208556 &  76920 & 106488.77 & 115964.0 & 127941.82 &  70869\\\\\n",
       "\tGB\\_3 & 351522.1 & 221018.3 & 259355.96 & 187905 & 234909 & 176300.28 & 148752.1 & 138773.22 & 168792\\\\\n",
       "\tAHM\\_4 & 240541.6 & 174418.7 & 176001.81 & 176015 & 114442 & 150068.14 & 101970.1 & 109481.00 &  80113\\\\\n",
       "\tAHM\\_5 & 206245.0 & 211173.8 & 335401.58 & 201335 & 108754 & 174590.12 & 173667.3 & 149838.46 & 154166\\\\\n",
       "\tGB\\_4 & 181641.8 & 273057.2 & 307714.71 & 212572 &  69113 & 187500.47 & 146388.5 & 163524.00 & 138565\\\\\n",
       "\\end{tabular}\n"
      ],
      "text/markdown": [
       "\n",
       "A matrix: 9 × 9 of type dbl\n",
       "\n",
       "| <!--/--> | EEF1A1 | HLA-B | MT-CO1 | ACTB | B2M | HLA-C | HLA-A | HLA-E | MT-RNR2 |\n",
       "|---|---|---|---|---|---|---|---|---|---|\n",
       "| AHM_1 | 583178.0 | 137277.8 |  70944.48 | 116769 | 241327 |  97104.82 | 118454.1 |  98642.52 |  81384 |\n",
       "| GB_1 | 198114.5 | 195562.8 | 330873.50 | 218685 | 113145 | 152158.96 | 161938.2 | 161444.73 | 155722 |\n",
       "| AHM_2 | 174740.7 | 420754.0 | 417644.98 | 298491 |  79821 | 364501.00 | 227078.2 | 207360.00 | 156351 |\n",
       "| GB_2 | 195864.6 | 189800.0 | 262104.06 | 191708 | 129504 | 149474.44 | 180870.7 | 165691.44 | 157627 |\n",
       "| AHM_3 | 208449.6 | 159606.3 | 170003.11 | 208556 |  76920 | 106488.77 | 115964.0 | 127941.82 |  70869 |\n",
       "| GB_3 | 351522.1 | 221018.3 | 259355.96 | 187905 | 234909 | 176300.28 | 148752.1 | 138773.22 | 168792 |\n",
       "| AHM_4 | 240541.6 | 174418.7 | 176001.81 | 176015 | 114442 | 150068.14 | 101970.1 | 109481.00 |  80113 |\n",
       "| AHM_5 | 206245.0 | 211173.8 | 335401.58 | 201335 | 108754 | 174590.12 | 173667.3 | 149838.46 | 154166 |\n",
       "| GB_4 | 181641.8 | 273057.2 | 307714.71 | 212572 |  69113 | 187500.47 | 146388.5 | 163524.00 | 138565 |\n",
       "\n"
      ],
      "text/plain": [
       "      EEF1A1   HLA-B    MT-CO1    ACTB   B2M    HLA-C     HLA-A    HLA-E    \n",
       "AHM_1 583178.0 137277.8  70944.48 116769 241327  97104.82 118454.1  98642.52\n",
       "GB_1  198114.5 195562.8 330873.50 218685 113145 152158.96 161938.2 161444.73\n",
       "AHM_2 174740.7 420754.0 417644.98 298491  79821 364501.00 227078.2 207360.00\n",
       "GB_2  195864.6 189800.0 262104.06 191708 129504 149474.44 180870.7 165691.44\n",
       "AHM_3 208449.6 159606.3 170003.11 208556  76920 106488.77 115964.0 127941.82\n",
       "GB_3  351522.1 221018.3 259355.96 187905 234909 176300.28 148752.1 138773.22\n",
       "AHM_4 240541.6 174418.7 176001.81 176015 114442 150068.14 101970.1 109481.00\n",
       "AHM_5 206245.0 211173.8 335401.58 201335 108754 174590.12 173667.3 149838.46\n",
       "GB_4  181641.8 273057.2 307714.71 212572  69113 187500.47 146388.5 163524.00\n",
       "      MT-RNR2\n",
       "AHM_1  81384 \n",
       "GB_1  155722 \n",
       "AHM_2 156351 \n",
       "GB_2  157627 \n",
       "AHM_3  70869 \n",
       "GB_3  168792 \n",
       "AHM_4  80113 \n",
       "AHM_5 154166 \n",
       "GB_4  138565 "
      ]
     },
     "metadata": {},
     "output_type": "display_data"
    }
   ],
   "source": [
    "input_mat"
   ]
  },
  {
   "cell_type": "code",
   "execution_count": 57,
   "id": "3d655939",
   "metadata": {},
   "outputs": [
    {
     "name": "stdout",
     "output_type": "stream",
     "text": [
      " Calculating module eigengenes block-wise from all genes\n",
      "   Flagging genes and samples with too many missing values...\n",
      "    ..step 1\n",
      " ..Working on block 1 .\n",
      "    TOM calculation: adjacency..\n",
      "    ..will not use multithreading.\n",
      "     Fraction of slow calculations: 0.000000\n",
      "    ..connectivity..\n",
      "    ..matrix multiplication (system BLAS)..\n",
      "    ..normalization..\n",
      "    ..done.\n",
      "   ..saving TOM for block 1 into file ER-block.1.RData\n",
      " ....clustering..\n",
      " ....detecting modules..\n",
      " No modules detected in block 1\n",
      " ..merging modules that are too close..\n",
      "     mergeCloseModules: Merging modules whose distance is less than 0.25\n"
     ]
    },
    {
     "name": "stderr",
     "output_type": "stream",
     "text": [
      "Warning message in blockwiseModules(input_mat, power = picked_power, networkType = \"signed\", :\n",
      "“blockwiseModules: mergeCloseModules failed with the following error message:\n",
      "     Error in mergeCloseModules(datExpr, colors[gsg$goodGenes], cutHeight = mergeCutHeight,  : \n",
      "  Error in moduleEigengenes(expr = exprData[[set]]$data, colors = setColors,  : \n",
      "  Color levels are empty. Possible reason: the only color is grey and grey module is excluded from the calculation.\n",
      "\n",
      " \n",
      "--> returning unmerged colors.\n",
      "”\n"
     ]
    }
   ],
   "source": [
    "netwk <- blockwiseModules(input_mat,               \n",
    "    # == Adjacency Function ==\n",
    "    power = picked_power,\n",
    "    # <= power here\n",
    "    networkType = \"signed\",\n",
    "    # == Tree and Block Options ==\n",
    "    deepSplit = 2,\n",
    "    pamRespectsDendro = F,\n",
    "    # detectCutHeight = 0.75,\n",
    "    minModuleSize = 30,\n",
    "    maxBlockSize = 4000,\n",
    "\n",
    "    # == Module Adjustments ==\n",
    "    reassignThreshold = 0,\n",
    "    mergeCutHeight = 0.25,\n",
    "\n",
    "    # == TOM == Archive the run results in TOM file (saves time)\n",
    "    saveTOMs = T,\n",
    "    saveTOMFileBase = \"ER\",\n",
    "\n",
    "    # == Output Options\n",
    "    numericLabels = T,\n",
    "    verbose = 3)\n",
    "cor <- temp_cor     # Return cor function to original namespace"
   ]
  },
  {
   "cell_type": "code",
   "execution_count": 58,
   "id": "6f6ea043",
   "metadata": {},
   "outputs": [
    {
     "name": "stderr",
     "output_type": "stream",
     "text": [
      "Warning message in pmin(objHeights[dendro$order][floor(positions)], objHeights[dendro$order][ceiling(positions)]):\n",
      "“an argument will be fractionally recycled”\n"
     ]
    },
    {
     "data": {
      "image/png": "[encoded data removed]",
      "text/plain": [
       "Plot with title “”"
      ]
     },
     "metadata": {
      "image/png": {
       "height": 420,
       "width": 420
      }
     },
     "output_type": "display_data"
    }
   ],
   "source": [
    "# Convert labels to colors for plotting\n",
    "mergedColors = labels2colors(netwk$colors)\n",
    "# Plot the dendrogram and the module colors underneath\n",
    "plotDendroAndColors(\n",
    "  netwk$dendrograms[[1]],\n",
    "  mergedColors[netwk$blockGenes[[1]]],\n",
    "  \"Module colors\",\n",
    "  dendroLabels = FALSE,\n",
    "  hang = 0.03,\n",
    "  addGuide = TRUE,\n",
    "  guideHang = 0.05 )"
   ]
  },
  {
   "cell_type": "code",
   "execution_count": 59,
   "id": "9b002281",
   "metadata": {},
   "outputs": [],
   "source": [
    "# netwk$colors[netwk$blockGenes[[1]]]\n",
    "# table(netwk$colors)\n",
    "module_df <- data.frame(\n",
    "  gene_id = names(netwk$colors),\n",
    "  colors = labels2colors(netwk$colors)\n",
    ")"
   ]
  },
  {
   "cell_type": "code",
   "execution_count": 60,
   "id": "302ef4ad",
   "metadata": {},
   "outputs": [
    {
     "data": {
      "text/html": [
       "<table class=\"dataframe\">\n",
       "<caption>A data.frame: 5 × 2</caption>\n",
       "<thead>\n",
       "\t<tr><th></th><th scope=col>gene_id</th><th scope=col>colors</th></tr>\n",
       "\t<tr><th></th><th scope=col>&lt;chr&gt;</th><th scope=col>&lt;chr&gt;</th></tr>\n",
       "</thead>\n",
       "<tbody>\n",
       "\t<tr><th scope=row>1</th><td>EEF1A1</td><td>grey</td></tr>\n",
       "\t<tr><th scope=row>2</th><td>HLA-B </td><td>grey</td></tr>\n",
       "\t<tr><th scope=row>3</th><td>MT-CO1</td><td>grey</td></tr>\n",
       "\t<tr><th scope=row>4</th><td>ACTB  </td><td>grey</td></tr>\n",
       "\t<tr><th scope=row>5</th><td>B2M   </td><td>grey</td></tr>\n",
       "</tbody>\n",
       "</table>\n"
      ],
      "text/latex": [
       "A data.frame: 5 × 2\n",
       "\\begin{tabular}{r|ll}\n",
       "  & gene\\_id & colors\\\\\n",
       "  & <chr> & <chr>\\\\\n",
       "\\hline\n",
       "\t1 & EEF1A1 & grey\\\\\n",
       "\t2 & HLA-B  & grey\\\\\n",
       "\t3 & MT-CO1 & grey\\\\\n",
       "\t4 & ACTB   & grey\\\\\n",
       "\t5 & B2M    & grey\\\\\n",
       "\\end{tabular}\n"
      ],
      "text/markdown": [
       "\n",
       "A data.frame: 5 × 2\n",
       "\n",
       "| <!--/--> | gene_id &lt;chr&gt; | colors &lt;chr&gt; |\n",
       "|---|---|---|\n",
       "| 1 | EEF1A1 | grey |\n",
       "| 2 | HLA-B  | grey |\n",
       "| 3 | MT-CO1 | grey |\n",
       "| 4 | ACTB   | grey |\n",
       "| 5 | B2M    | grey |\n",
       "\n"
      ],
      "text/plain": [
       "  gene_id colors\n",
       "1 EEF1A1  grey  \n",
       "2 HLA-B   grey  \n",
       "3 MT-CO1  grey  \n",
       "4 ACTB    grey  \n",
       "5 B2M     grey  "
      ]
     },
     "metadata": {},
     "output_type": "display_data"
    }
   ],
   "source": [
    "module_df[1:5,]\n",
    "#>            gene_id    colors\n",
    "#> 1 AC149818.2_FG001      blue\n",
    "#> 2 AC149829.2_FG003      blue\n",
    "#> 3 AC182617.3_FG001      blue\n",
    "#> 4 AC186512.3_FG001 turquoise\n",
    "#> 5 AC186512.3_FG007 turquoise"
   ]
  },
  {
   "cell_type": "code",
   "execution_count": 61,
   "id": "7385b673",
   "metadata": {},
   "outputs": [],
   "source": [
    "write_delim(module_df,\n",
    "    file = \"gene_modules.txt\",\n",
    "    delim = \"\\t\")"
   ]
  },
  {
   "cell_type": "code",
   "execution_count": 62,
   "id": "e2c58722",
   "metadata": {},
   "outputs": [],
   "source": [
    "# Get Module Eigengenes per cluster\n",
    "MEs0 <- moduleEigengenes(input_mat, mergedColors)$eigengenes"
   ]
  },
  {
   "cell_type": "code",
   "execution_count": 63,
   "id": "b21f5b30",
   "metadata": {},
   "outputs": [],
   "source": [
    "# Reorder modules so similar modules are next to each other\n",
    "MEs0 <- orderMEs(MEs0)\n",
    "module_order = names(MEs0) %>% gsub(\"ME\",\"\", .)"
   ]
  },
  {
   "cell_type": "code",
   "execution_count": 64,
   "id": "90612f0c",
   "metadata": {},
   "outputs": [],
   "source": [
    "# Add treatment names\n",
    "MEs0$treatment = row.names(MEs0)"
   ]
  },
  {
   "cell_type": "code",
   "execution_count": 65,
   "id": "95b6f552",
   "metadata": {},
   "outputs": [],
   "source": [
    "# tidy & plot data\n",
    "mME = MEs0 %>%\n",
    "  pivot_longer(-treatment) %>%\n",
    "  mutate(\n",
    "    name = gsub(\"ME\", \"\", name),\n",
    "    name = factor(name, levels = module_order)\n",
    "  )"
   ]
  },
  {
   "cell_type": "code",
   "execution_count": 66,
   "id": "b3a78212",
   "metadata": {},
   "outputs": [
    {
     "data": {
      "image/png": "[encoded data removed]",
      "text/plain": [
       "plot without title"
      ]
     },
     "metadata": {
      "image/png": {
       "height": 420,
       "width": 420
      }
     },
     "output_type": "display_data"
    }
   ],
   "source": [
    "mME %>% ggplot(., aes(x=treatment, y=name, fill=value)) +\n",
    "  geom_tile() +\n",
    "  theme_bw() +\n",
    "  scale_fill_gradient2(\n",
    "    low = \"blue\",\n",
    "    high = \"red\",\n",
    "    mid = \"white\",\n",
    "    midpoint = 0,\n",
    "    limit = c(-1,1)) +\n",
    "  theme(axis.text.x = element_text(angle=90)) +\n",
    "  labs(title = \"Module-trait Relationships\", y = \"Modules\", fill=\"corr\")"
   ]
  },
  {
   "cell_type": "code",
   "execution_count": null,
   "id": "72b5c5f5-cd90-4435-87ef-53f4c6274325",
   "metadata": {},
   "outputs": [],
   "source": []
  },
  {
   "cell_type": "code",
   "execution_count": null,
   "id": "709bae0f-066e-4908-91a7-7ecb7589fa22",
   "metadata": {},
   "outputs": [],
   "source": []
  }
 ],
 "metadata": {
  "jupytext": {
   "cell_metadata_filter": "-all",
   "main_language": "R",
   "notebook_metadata_filter": "-all"
  },
  "kernelspec": {
   "display_name": "R",
   "language": "R",
   "name": "ir"
  },
  "language_info": {
   "codemirror_mode": "r",
   "file_extension": ".r",
   "mimetype": "text/x-r-source",
   "name": "R",
   "pygments_lexer": "r",
   "version": "4.1.1"
  }
 },
 "nbformat": 4,
 "nbformat_minor": 5
}
